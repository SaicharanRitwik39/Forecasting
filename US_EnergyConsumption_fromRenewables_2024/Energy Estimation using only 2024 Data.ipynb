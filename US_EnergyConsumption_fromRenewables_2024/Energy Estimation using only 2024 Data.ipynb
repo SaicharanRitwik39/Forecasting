{
 "cells": [
  {
   "cell_type": "code",
   "execution_count": 1,
   "metadata": {},
   "outputs": [],
   "source": [
    "import pandas as pd\n",
    "import numpy as np"
   ]
  },
  {
   "cell_type": "code",
   "execution_count": 2,
   "metadata": {},
   "outputs": [],
   "source": [
    "data = {\n",
    "    \"Energy Source\": [\n",
    "        \"Coal\", \"Natural Gas\", \"Petroleum Consumption\", \"Total Fossil Fuels\",\n",
    "        \"Nuclear Electric Power\",\n",
    "        \"Hydroelectric Power\", \"Geothermal\", \"Solar\", \"Wind\", \"Biomass\", \"Total Renewable Energy\",\n",
    "        \"Total\"\n",
    "    ],\n",
    "    \"Jan 2024\": [\n",
    "        0.874831, 3.822249, 2.88552, 7.581865, 0.721745,\n",
    "        0.07246, 0.010045, 0.052858, 0.119337, 0.407249, 0.661948, 8.971485\n",
    "    ],\n",
    "    \"Feb 2024\": [\n",
    "        0.557602, 3.069708, 2.727949, 6.353701, 0.674772,\n",
    "        0.066866, 0.009362, 0.064733, 0.142026, 0.39864, 0.681627, 7.710646\n",
    "    ],\n",
    "    \"Mar 2024\": [\n",
    "        0.488714, 2.887404, 2.924237, 6.296272, 0.661837,\n",
    "        0.078288, 0.009609, 0.083217, 0.156539, 0.421785, 0.749438, 7.706357\n",
    "    ],\n",
    "    \"Apr 2024\": [\n",
    "        0.465369, 2.475176, 2.874712, 5.810186, 0.598945,\n",
    "        0.065477, 0.009615, 0.097722, 0.162714, 0.400827, 0.736355, 7.148127\n",
    "    ],\n",
    "    \"May 2024\": [\n",
    "        0.563717, 2.405717, 3.079122, 6.046101, 0.678838,\n",
    "        0.074939, 0.009558, 0.111387, 0.132849, 0.427744, 0.756477, 7.486766\n",
    "    ]\n",
    "}\n",
    "\n",
    "df = pd.DataFrame(data)"
   ]
  },
  {
   "cell_type": "code",
   "execution_count": 3,
   "metadata": {},
   "outputs": [
    {
     "data": {
      "text/html": [
       "<div>\n",
       "<style scoped>\n",
       "    .dataframe tbody tr th:only-of-type {\n",
       "        vertical-align: middle;\n",
       "    }\n",
       "\n",
       "    .dataframe tbody tr th {\n",
       "        vertical-align: top;\n",
       "    }\n",
       "\n",
       "    .dataframe thead th {\n",
       "        text-align: right;\n",
       "    }\n",
       "</style>\n",
       "<table border=\"1\" class=\"dataframe\">\n",
       "  <thead>\n",
       "    <tr style=\"text-align: right;\">\n",
       "      <th></th>\n",
       "      <th>Energy Source</th>\n",
       "      <th>Jan 2024</th>\n",
       "      <th>Feb 2024</th>\n",
       "      <th>Mar 2024</th>\n",
       "      <th>Apr 2024</th>\n",
       "      <th>May 2024</th>\n",
       "    </tr>\n",
       "  </thead>\n",
       "  <tbody>\n",
       "    <tr>\n",
       "      <th>0</th>\n",
       "      <td>Coal</td>\n",
       "      <td>0.874831</td>\n",
       "      <td>0.557602</td>\n",
       "      <td>0.488714</td>\n",
       "      <td>0.465369</td>\n",
       "      <td>0.563717</td>\n",
       "    </tr>\n",
       "    <tr>\n",
       "      <th>1</th>\n",
       "      <td>Natural Gas</td>\n",
       "      <td>3.822249</td>\n",
       "      <td>3.069708</td>\n",
       "      <td>2.887404</td>\n",
       "      <td>2.475176</td>\n",
       "      <td>2.405717</td>\n",
       "    </tr>\n",
       "    <tr>\n",
       "      <th>2</th>\n",
       "      <td>Petroleum Consumption</td>\n",
       "      <td>2.885520</td>\n",
       "      <td>2.727949</td>\n",
       "      <td>2.924237</td>\n",
       "      <td>2.874712</td>\n",
       "      <td>3.079122</td>\n",
       "    </tr>\n",
       "    <tr>\n",
       "      <th>3</th>\n",
       "      <td>Total Fossil Fuels</td>\n",
       "      <td>7.581865</td>\n",
       "      <td>6.353701</td>\n",
       "      <td>6.296272</td>\n",
       "      <td>5.810186</td>\n",
       "      <td>6.046101</td>\n",
       "    </tr>\n",
       "    <tr>\n",
       "      <th>4</th>\n",
       "      <td>Nuclear Electric Power</td>\n",
       "      <td>0.721745</td>\n",
       "      <td>0.674772</td>\n",
       "      <td>0.661837</td>\n",
       "      <td>0.598945</td>\n",
       "      <td>0.678838</td>\n",
       "    </tr>\n",
       "    <tr>\n",
       "      <th>5</th>\n",
       "      <td>Hydroelectric Power</td>\n",
       "      <td>0.072460</td>\n",
       "      <td>0.066866</td>\n",
       "      <td>0.078288</td>\n",
       "      <td>0.065477</td>\n",
       "      <td>0.074939</td>\n",
       "    </tr>\n",
       "    <tr>\n",
       "      <th>6</th>\n",
       "      <td>Geothermal</td>\n",
       "      <td>0.010045</td>\n",
       "      <td>0.009362</td>\n",
       "      <td>0.009609</td>\n",
       "      <td>0.009615</td>\n",
       "      <td>0.009558</td>\n",
       "    </tr>\n",
       "    <tr>\n",
       "      <th>7</th>\n",
       "      <td>Solar</td>\n",
       "      <td>0.052858</td>\n",
       "      <td>0.064733</td>\n",
       "      <td>0.083217</td>\n",
       "      <td>0.097722</td>\n",
       "      <td>0.111387</td>\n",
       "    </tr>\n",
       "    <tr>\n",
       "      <th>8</th>\n",
       "      <td>Wind</td>\n",
       "      <td>0.119337</td>\n",
       "      <td>0.142026</td>\n",
       "      <td>0.156539</td>\n",
       "      <td>0.162714</td>\n",
       "      <td>0.132849</td>\n",
       "    </tr>\n",
       "    <tr>\n",
       "      <th>9</th>\n",
       "      <td>Biomass</td>\n",
       "      <td>0.407249</td>\n",
       "      <td>0.398640</td>\n",
       "      <td>0.421785</td>\n",
       "      <td>0.400827</td>\n",
       "      <td>0.427744</td>\n",
       "    </tr>\n",
       "    <tr>\n",
       "      <th>10</th>\n",
       "      <td>Total Renewable Energy</td>\n",
       "      <td>0.661948</td>\n",
       "      <td>0.681627</td>\n",
       "      <td>0.749438</td>\n",
       "      <td>0.736355</td>\n",
       "      <td>0.756477</td>\n",
       "    </tr>\n",
       "    <tr>\n",
       "      <th>11</th>\n",
       "      <td>Total</td>\n",
       "      <td>8.971485</td>\n",
       "      <td>7.710646</td>\n",
       "      <td>7.706357</td>\n",
       "      <td>7.148127</td>\n",
       "      <td>7.486766</td>\n",
       "    </tr>\n",
       "  </tbody>\n",
       "</table>\n",
       "</div>"
      ],
      "text/plain": [
       "             Energy Source  Jan 2024  Feb 2024  Mar 2024  Apr 2024  May 2024\n",
       "0                     Coal  0.874831  0.557602  0.488714  0.465369  0.563717\n",
       "1              Natural Gas  3.822249  3.069708  2.887404  2.475176  2.405717\n",
       "2    Petroleum Consumption  2.885520  2.727949  2.924237  2.874712  3.079122\n",
       "3       Total Fossil Fuels  7.581865  6.353701  6.296272  5.810186  6.046101\n",
       "4   Nuclear Electric Power  0.721745  0.674772  0.661837  0.598945  0.678838\n",
       "5      Hydroelectric Power  0.072460  0.066866  0.078288  0.065477  0.074939\n",
       "6               Geothermal  0.010045  0.009362  0.009609  0.009615  0.009558\n",
       "7                    Solar  0.052858  0.064733  0.083217  0.097722  0.111387\n",
       "8                     Wind  0.119337  0.142026  0.156539  0.162714  0.132849\n",
       "9                  Biomass  0.407249  0.398640  0.421785  0.400827  0.427744\n",
       "10  Total Renewable Energy  0.661948  0.681627  0.749438  0.736355  0.756477\n",
       "11                   Total  8.971485  7.710646  7.706357  7.148127  7.486766"
      ]
     },
     "execution_count": 3,
     "metadata": {},
     "output_type": "execute_result"
    }
   ],
   "source": [
    "df"
   ]
  },
  {
   "cell_type": "code",
   "execution_count": 4,
   "metadata": {},
   "outputs": [
    {
     "data": {
      "text/plain": [
       "0.07378354865443124"
      ]
     },
     "execution_count": 4,
     "metadata": {},
     "output_type": "execute_result"
    }
   ],
   "source": [
    "0.661948/8.971485"
   ]
  },
  {
   "cell_type": "code",
   "execution_count": 5,
   "metadata": {},
   "outputs": [
    {
     "data": {
      "text/plain": [
       "0.08840076434581487"
      ]
     },
     "execution_count": 5,
     "metadata": {},
     "output_type": "execute_result"
    }
   ],
   "source": [
    "0.681627/7.710646"
   ]
  },
  {
   "cell_type": "code",
   "execution_count": 6,
   "metadata": {},
   "outputs": [
    {
     "data": {
      "text/plain": [
       "0.09724932286422755"
      ]
     },
     "execution_count": 6,
     "metadata": {},
     "output_type": "execute_result"
    }
   ],
   "source": [
    "0.749438/7.706357"
   ]
  },
  {
   "cell_type": "code",
   "execution_count": 7,
   "metadata": {},
   "outputs": [
    {
     "data": {
      "text/plain": [
       "0.10301369855348122"
      ]
     },
     "execution_count": 7,
     "metadata": {},
     "output_type": "execute_result"
    }
   ],
   "source": [
    "0.736355/7.148127"
   ]
  },
  {
   "cell_type": "code",
   "execution_count": 8,
   "metadata": {},
   "outputs": [
    {
     "data": {
      "text/plain": [
       "0.10104189178611966"
      ]
     },
     "execution_count": 8,
     "metadata": {},
     "output_type": "execute_result"
    }
   ],
   "source": [
    "0.756477/7.486766"
   ]
  },
  {
   "cell_type": "code",
   "execution_count": 9,
   "metadata": {},
   "outputs": [
    {
     "data": {
      "text/plain": [
       "0.09188965456376012"
      ]
     },
     "execution_count": 9,
     "metadata": {},
     "output_type": "execute_result"
    }
   ],
   "source": [
    "(0.661948+0.681627+0.749438+0.736355+0.756477)/(8.971485+7.710646+7.706357+7.148127+7.486766)"
   ]
  },
  {
   "cell_type": "code",
   "execution_count": null,
   "metadata": {},
   "outputs": [],
   "source": []
  }
 ],
 "metadata": {
  "kernelspec": {
   "display_name": "Python 3",
   "language": "python",
   "name": "python3"
  },
  "language_info": {
   "codemirror_mode": {
    "name": "ipython",
    "version": 3
   },
   "file_extension": ".py",
   "mimetype": "text/x-python",
   "name": "python",
   "nbconvert_exporter": "python",
   "pygments_lexer": "ipython3",
   "version": "3.8.5"
  }
 },
 "nbformat": 4,
 "nbformat_minor": 4
}
