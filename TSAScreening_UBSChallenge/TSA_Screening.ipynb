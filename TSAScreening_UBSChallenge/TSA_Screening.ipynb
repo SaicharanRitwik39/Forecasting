{
  "nbformat": 4,
  "nbformat_minor": 0,
  "metadata": {
    "colab": {
      "provenance": []
    },
    "kernelspec": {
      "name": "python3",
      "display_name": "Python 3"
    },
    "language_info": {
      "name": "python"
    }
  },
  "cells": [
    {
      "cell_type": "markdown",
      "source": [
        "How many travelers will the US Transportation Security Agency (TSA) screen between 1 May 2024 and 31 July 2024? - Saicharan Ritwik, 30/07/2024\n"
      ],
      "metadata": {
        "id": "rZ0cKBQc9Xox"
      }
    },
    {
      "cell_type": "code",
      "execution_count": 1,
      "metadata": {
        "colab": {
          "base_uri": "https://localhost:8080/"
        },
        "id": "GtnffaKL7p6i",
        "outputId": "6ee9117b-5343-4171-b9eb-7cbd1050a86d"
      },
      "outputs": [
        {
          "output_type": "execute_result",
          "data": {
            "text/plain": [
              "241285544"
            ]
          },
          "metadata": {},
          "execution_count": 1
        }
      ],
      "source": [
        "numbers = [\n",
        "    2795087, 2919451, 2582948, 2877017, 2922961, 2719054, 2602654, 2864273, 2908201, 2605902,\n",
        "    2716300, 2956729, 2640465, 2536943, 2780901, 2932436, 2582682, 2828993, 2838398, 2627684,\n",
        "    2580013, 2785686, 3013413, 2615925, 2431136, 2221572, 2786125, 2537968, 2754205, 2834751,\n",
        "    2639429, 2935065, 2921490, 2706189, 2612423, 2942351, 2996193, 2624601, 2873524, 2832751,\n",
        "    2683871, 2537953, 2721038, 2858297, 2617341, 2927482, 2859064, 2597369, 2487123, 2815172,\n",
        "    2914565, 2498945, 2842265, 2819147, 2552797, 2396886, 2718914, 2822325, 2414886, 2772738,\n",
        "    2652394, 2446990, 2555317, 2771151, 2412782, 2429025, 2951163, 2897421, 2518844, 2435516,\n",
        "    2745343, 2843144, 2365576, 2855596, 2807609, 2454871, 2274001, 2711205, 2666048, 2293183,\n",
        "    2789715, 2797002, 2436675, 2242367, 2639594, 2705857, 2175619, 2674398, 2642085, 2352986\n",
        "]\n",
        "total_sum = sum(numbers)\n",
        "total_sum"
      ]
    },
    {
      "cell_type": "code",
      "source": [
        "average=total_sum/len(numbers)\n",
        "average"
      ],
      "metadata": {
        "colab": {
          "base_uri": "https://localhost:8080/"
        },
        "id": "Y-G3vFHP8BcX",
        "outputId": "37b2a992-96b1-47ba-f486-12df2b821980"
      },
      "execution_count": 3,
      "outputs": [
        {
          "output_type": "execute_result",
          "data": {
            "text/plain": [
              "2680950.488888889"
            ]
          },
          "metadata": {},
          "execution_count": 3
        }
      ]
    },
    {
      "cell_type": "code",
      "source": [
        "total_sum+2*average  # Simply adding the average value per day for 2 remaining days to get an idea of"
      ],
      "metadata": {
        "colab": {
          "base_uri": "https://localhost:8080/"
        },
        "id": "ZHbYJOv88aSe",
        "outputId": "8bded628-f5f0-434f-ac88-18079233f5b8"
      },
      "execution_count": 4,
      "outputs": [
        {
          "output_type": "execute_result",
          "data": {
            "text/plain": [
              "246647444.97777778"
            ]
          },
          "metadata": {},
          "execution_count": 4
        }
      ]
    },
    {
      "cell_type": "code",
      "source": [],
      "metadata": {
        "id": "5Eb9yhVK8xUO"
      },
      "execution_count": null,
      "outputs": []
    }
  ]
}