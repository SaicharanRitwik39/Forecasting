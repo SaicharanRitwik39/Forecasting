{
 "cells": [
  {
   "cell_type": "code",
   "execution_count": 26,
   "metadata": {},
   "outputs": [],
   "source": [
    "import pandas as pd\n",
    "import numpy as np\n",
    "import matplotlib.pyplot as plt"
   ]
  },
  {
   "cell_type": "code",
   "execution_count": 35,
   "metadata": {},
   "outputs": [
    {
     "name": "stdout",
     "output_type": "stream",
     "text": [
      "Monte Carlo Simulation Results for S&P 500 Forecast:\n",
      "0.09%\n",
      "0.5452%\n",
      "2.3334%\n",
      "6.579599999999999%\n",
      "12.8312%\n",
      "18.215400000000002%\n",
      "19.794%\n",
      "16.7058%\n",
      "11.3672%\n",
      "11.5382%\n"
     ]
    }
   ],
   "source": [
    "sp500_data = pd.read_csv('SP500.csv')\n",
    "sp500_data['DATE'] = pd.to_datetime(sp500_data['DATE'])\n",
    "sp500_data['SP500'] = pd.to_numeric(sp500_data['SP500'], errors='coerce')\n",
    "sp500_data = sp500_data.dropna(subset=['SP500'])\n",
    "sp500_data['Daily_Return'] = sp500_data['SP500'].pct_change()\n",
    "sp500_data = sp500_data.dropna()\n",
    "\n",
    "num_simulations = 500000  \n",
    "forecast_days = (pd.Timestamp(\"2024-12-31\") - sp500_data['DATE'].max()).days  \n",
    "last_sp500_value = sp500_data['SP500'].iloc[-1]  \n",
    "\n",
    "mean_daily_return = sp500_data['Daily_Return'].mean()\n",
    "std_dev_daily_return = sp500_data['Daily_Return'].std()\n",
    "\n",
    "np.random.seed(42)  \n",
    "simulations = np.zeros(num_simulations)\n",
    "\n",
    "for i in range(num_simulations):\n",
    "    simulated_daily_returns = np.random.normal(mean_daily_return, std_dev_daily_return, forecast_days)\n",
    "    simulations[i] = last_sp500_value * np.exp(np.sum(simulated_daily_returns))\n",
    "\n",
    "forecast_buckets = [\n",
    "    (0, 4500),\n",
    "    (4500, 4775),\n",
    "    (4775, 5050),\n",
    "    (5050, 5325),\n",
    "    (5325, 5600),\n",
    "    (5600, 5875),\n",
    "    (5875, 6150),\n",
    "    (6150, 6425),\n",
    "    (6425, 6700),\n",
    "    (6700, np.inf)\n",
    "]\n",
    "\n",
    "bucket_counts = {f\"{low} - {high}\": np.sum((simulations >= low) & (simulations < high)) for low, high in forecast_buckets}\n",
    "bucket_percentages = {k: (v / num_simulations) * 100 for k, v in bucket_counts.items()}\n",
    "\n",
    "print(\"Monte Carlo Simulation Results for S&P 500 Forecast:\")\n",
    "for bucket, percentage in bucket_percentages.items():\n",
    "    print(f\"{percentage}%\")\n",
    "\n",
    "#plt.hist(simulations, bins=50, color='skyblue', edgecolor='black')\n",
    "#plt.title(\"Distribution of Simulated S&P 500 Closing Values on 31-Dec-2024\")\n",
    "#plt.xlabel(\"S&P 500 Closing Value\")\n",
    "#plt.ylabel(\"Frequency\")\n",
    "#plt.show()"
   ]
  },
  {
   "cell_type": "code",
   "execution_count": 36,
   "metadata": {},
   "outputs": [
    {
     "name": "stdout",
     "output_type": "stream",
     "text": [
      "Combined Weighted Forecast:\n",
      "         Bucket  Monte Carlo %  Crowd Forecast %  Weighted %\n",
      "0      0 - 4500              0                 0           0\n",
      "1   4500 - 4775              1                 0           1\n",
      "2   4775 - 5050              2                 1           2\n",
      "3   5050 - 5325              6                 6           6\n",
      "4   5325 - 5600             13                12          13\n",
      "5   5600 - 5875             18                29          21\n",
      "6   5875 - 6150             20                34          24\n",
      "7   6150 - 6425             17                15          16\n",
      "8   6425 - 6700             11                 2           9\n",
      "9  6700 or more             12                 1           9\n"
     ]
    }
   ],
   "source": [
    "monte_carlo_percentages = [0,1,2,6,13,18,20,17,11,12]  \n",
    "crowd_forecast_percentages = [0,0,1,6,12,29,34,15,2,1]\n",
    "weight_monte_carlo = 0.75\n",
    "weight_crowd = 0.25\n",
    "weighted_percentages = [\n",
    "    weight_monte_carlo * monte_carlo + weight_crowd * crowd\n",
    "    for monte_carlo, crowd in zip(monte_carlo_percentages, crowd_forecast_percentages)\n",
    "]\n",
    "weighted_percentages = [round(value) for value in weighted_percentages]\n",
    "forecast_buckets = [\n",
    "    \"0 - 4500\", \"4500 - 4775\", \"4775 - 5050\", \"5050 - 5325\",\n",
    "    \"5325 - 5600\", \"5600 - 5875\", \"5875 - 6150\", \"6150 - 6425\",\n",
    "    \"6425 - 6700\", \"6700 or more\"\n",
    "]\n",
    "\n",
    "results_df = pd.DataFrame({\n",
    "    \"Bucket\": forecast_buckets,\n",
    "    \"Monte Carlo %\": monte_carlo_percentages,\n",
    "    \"Crowd Forecast %\": crowd_forecast_percentages,\n",
    "    \"Weighted %\": weighted_percentages\n",
    "})\n",
    "print(\"Combined Weighted Forecast:\")\n",
    "print(results_df)"
   ]
  },
  {
   "cell_type": "code",
   "execution_count": null,
   "metadata": {},
   "outputs": [],
   "source": []
  },
  {
   "cell_type": "code",
   "execution_count": null,
   "metadata": {},
   "outputs": [],
   "source": []
  }
 ],
 "metadata": {
  "kernelspec": {
   "display_name": "Python 3",
   "language": "python",
   "name": "python3"
  },
  "language_info": {
   "codemirror_mode": {
    "name": "ipython",
    "version": 3
   },
   "file_extension": ".py",
   "mimetype": "text/x-python",
   "name": "python",
   "nbconvert_exporter": "python",
   "pygments_lexer": "ipython3",
   "version": "3.8.5"
  }
 },
 "nbformat": 4,
 "nbformat_minor": 4
}
