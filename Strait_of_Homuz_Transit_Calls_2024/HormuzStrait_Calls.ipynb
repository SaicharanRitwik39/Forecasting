{
 "cells": [
  {
   "cell_type": "code",
   "execution_count": 1,
   "metadata": {},
   "outputs": [],
   "source": [
    "import pandas as pd\n",
    "import numpy as np"
   ]
  },
  {
   "cell_type": "code",
   "execution_count": 2,
   "metadata": {},
   "outputs": [
    {
     "data": {
      "text/html": [
       "<div>\n",
       "<style scoped>\n",
       "    .dataframe tbody tr th:only-of-type {\n",
       "        vertical-align: middle;\n",
       "    }\n",
       "\n",
       "    .dataframe tbody tr th {\n",
       "        vertical-align: top;\n",
       "    }\n",
       "\n",
       "    .dataframe thead th {\n",
       "        text-align: right;\n",
       "    }\n",
       "</style>\n",
       "<table border=\"1\" class=\"dataframe\">\n",
       "  <thead>\n",
       "    <tr style=\"text-align: right;\">\n",
       "      <th></th>\n",
       "      <th>DateTime</th>\n",
       "      <th>Number of Cargo Ships</th>\n",
       "      <th>Number of Tanker Ships</th>\n",
       "      <th>7-day Moving Average</th>\n",
       "      <th>Prior Year: 7-day Moving Average</th>\n",
       "    </tr>\n",
       "  </thead>\n",
       "  <tbody>\n",
       "    <tr>\n",
       "      <th>0</th>\n",
       "      <td>2019-01-01 00:00:00</td>\n",
       "      <td>35</td>\n",
       "      <td>65</td>\n",
       "      <td>100.00</td>\n",
       "      <td>NaN</td>\n",
       "    </tr>\n",
       "    <tr>\n",
       "      <th>1</th>\n",
       "      <td>2019-01-02 00:00:00</td>\n",
       "      <td>27</td>\n",
       "      <td>61</td>\n",
       "      <td>94.00</td>\n",
       "      <td>NaN</td>\n",
       "    </tr>\n",
       "    <tr>\n",
       "      <th>2</th>\n",
       "      <td>2019-01-03 00:00:00</td>\n",
       "      <td>34</td>\n",
       "      <td>63</td>\n",
       "      <td>95.00</td>\n",
       "      <td>NaN</td>\n",
       "    </tr>\n",
       "    <tr>\n",
       "      <th>3</th>\n",
       "      <td>2019-01-04 00:00:00</td>\n",
       "      <td>26</td>\n",
       "      <td>44</td>\n",
       "      <td>88.75</td>\n",
       "      <td>NaN</td>\n",
       "    </tr>\n",
       "    <tr>\n",
       "      <th>4</th>\n",
       "      <td>2019-01-05 00:00:00</td>\n",
       "      <td>31</td>\n",
       "      <td>51</td>\n",
       "      <td>87.40</td>\n",
       "      <td>NaN</td>\n",
       "    </tr>\n",
       "  </tbody>\n",
       "</table>\n",
       "</div>"
      ],
      "text/plain": [
       "              DateTime  Number of Cargo Ships  Number of Tanker Ships  \\\n",
       "0  2019-01-01 00:00:00                     35                      65   \n",
       "1  2019-01-02 00:00:00                     27                      61   \n",
       "2  2019-01-03 00:00:00                     34                      63   \n",
       "3  2019-01-04 00:00:00                     26                      44   \n",
       "4  2019-01-05 00:00:00                     31                      51   \n",
       "\n",
       "   7-day Moving Average  Prior Year: 7-day Moving Average  \n",
       "0                100.00                               NaN  \n",
       "1                 94.00                               NaN  \n",
       "2                 95.00                               NaN  \n",
       "3                 88.75                               NaN  \n",
       "4                 87.40                               NaN  "
      ]
     },
     "execution_count": 2,
     "metadata": {},
     "output_type": "execute_result"
    }
   ],
   "source": [
    "data = pd.read_csv('strait-of-hormuz-daily-t.csv')\n",
    "data.head()"
   ]
  },
  {
   "cell_type": "code",
   "execution_count": 3,
   "metadata": {},
   "outputs": [],
   "source": [
    "data['DateTime'] = pd.to_datetime(data['DateTime'])"
   ]
  },
  {
   "cell_type": "code",
   "execution_count": 4,
   "metadata": {},
   "outputs": [
    {
     "data": {
      "text/html": [
       "<div>\n",
       "<style scoped>\n",
       "    .dataframe tbody tr th:only-of-type {\n",
       "        vertical-align: middle;\n",
       "    }\n",
       "\n",
       "    .dataframe tbody tr th {\n",
       "        vertical-align: top;\n",
       "    }\n",
       "\n",
       "    .dataframe thead th {\n",
       "        text-align: right;\n",
       "    }\n",
       "</style>\n",
       "<table border=\"1\" class=\"dataframe\">\n",
       "  <thead>\n",
       "    <tr style=\"text-align: right;\">\n",
       "      <th></th>\n",
       "      <th>DateTime</th>\n",
       "      <th>Number of Cargo Ships</th>\n",
       "      <th>Number of Tanker Ships</th>\n",
       "      <th>7-day Moving Average</th>\n",
       "      <th>Prior Year: 7-day Moving Average</th>\n",
       "    </tr>\n",
       "  </thead>\n",
       "  <tbody>\n",
       "    <tr>\n",
       "      <th>0</th>\n",
       "      <td>2019-01-01</td>\n",
       "      <td>35</td>\n",
       "      <td>65</td>\n",
       "      <td>100.00</td>\n",
       "      <td>NaN</td>\n",
       "    </tr>\n",
       "    <tr>\n",
       "      <th>1</th>\n",
       "      <td>2019-01-02</td>\n",
       "      <td>27</td>\n",
       "      <td>61</td>\n",
       "      <td>94.00</td>\n",
       "      <td>NaN</td>\n",
       "    </tr>\n",
       "    <tr>\n",
       "      <th>2</th>\n",
       "      <td>2019-01-03</td>\n",
       "      <td>34</td>\n",
       "      <td>63</td>\n",
       "      <td>95.00</td>\n",
       "      <td>NaN</td>\n",
       "    </tr>\n",
       "    <tr>\n",
       "      <th>3</th>\n",
       "      <td>2019-01-04</td>\n",
       "      <td>26</td>\n",
       "      <td>44</td>\n",
       "      <td>88.75</td>\n",
       "      <td>NaN</td>\n",
       "    </tr>\n",
       "    <tr>\n",
       "      <th>4</th>\n",
       "      <td>2019-01-05</td>\n",
       "      <td>31</td>\n",
       "      <td>51</td>\n",
       "      <td>87.40</td>\n",
       "      <td>NaN</td>\n",
       "    </tr>\n",
       "  </tbody>\n",
       "</table>\n",
       "</div>"
      ],
      "text/plain": [
       "    DateTime  Number of Cargo Ships  Number of Tanker Ships  \\\n",
       "0 2019-01-01                     35                      65   \n",
       "1 2019-01-02                     27                      61   \n",
       "2 2019-01-03                     34                      63   \n",
       "3 2019-01-04                     26                      44   \n",
       "4 2019-01-05                     31                      51   \n",
       "\n",
       "   7-day Moving Average  Prior Year: 7-day Moving Average  \n",
       "0                100.00                               NaN  \n",
       "1                 94.00                               NaN  \n",
       "2                 95.00                               NaN  \n",
       "3                 88.75                               NaN  \n",
       "4                 87.40                               NaN  "
      ]
     },
     "execution_count": 4,
     "metadata": {},
     "output_type": "execute_result"
    }
   ],
   "source": [
    "data.head()"
   ]
  },
  {
   "cell_type": "code",
   "execution_count": 5,
   "metadata": {},
   "outputs": [
    {
     "data": {
      "text/html": [
       "<div>\n",
       "<style scoped>\n",
       "    .dataframe tbody tr th:only-of-type {\n",
       "        vertical-align: middle;\n",
       "    }\n",
       "\n",
       "    .dataframe tbody tr th {\n",
       "        vertical-align: top;\n",
       "    }\n",
       "\n",
       "    .dataframe thead th {\n",
       "        text-align: right;\n",
       "    }\n",
       "</style>\n",
       "<table border=\"1\" class=\"dataframe\">\n",
       "  <thead>\n",
       "    <tr style=\"text-align: right;\">\n",
       "      <th></th>\n",
       "      <th>DateTime</th>\n",
       "      <th>Number of Cargo Ships</th>\n",
       "      <th>Number of Tanker Ships</th>\n",
       "      <th>7-day Moving Average</th>\n",
       "      <th>Prior Year: 7-day Moving Average</th>\n",
       "      <th>Total Ships</th>\n",
       "    </tr>\n",
       "  </thead>\n",
       "  <tbody>\n",
       "    <tr>\n",
       "      <th>0</th>\n",
       "      <td>2019-01-01</td>\n",
       "      <td>35</td>\n",
       "      <td>65</td>\n",
       "      <td>100.00</td>\n",
       "      <td>NaN</td>\n",
       "      <td>100</td>\n",
       "    </tr>\n",
       "    <tr>\n",
       "      <th>1</th>\n",
       "      <td>2019-01-02</td>\n",
       "      <td>27</td>\n",
       "      <td>61</td>\n",
       "      <td>94.00</td>\n",
       "      <td>NaN</td>\n",
       "      <td>88</td>\n",
       "    </tr>\n",
       "    <tr>\n",
       "      <th>2</th>\n",
       "      <td>2019-01-03</td>\n",
       "      <td>34</td>\n",
       "      <td>63</td>\n",
       "      <td>95.00</td>\n",
       "      <td>NaN</td>\n",
       "      <td>97</td>\n",
       "    </tr>\n",
       "    <tr>\n",
       "      <th>3</th>\n",
       "      <td>2019-01-04</td>\n",
       "      <td>26</td>\n",
       "      <td>44</td>\n",
       "      <td>88.75</td>\n",
       "      <td>NaN</td>\n",
       "      <td>70</td>\n",
       "    </tr>\n",
       "    <tr>\n",
       "      <th>4</th>\n",
       "      <td>2019-01-05</td>\n",
       "      <td>31</td>\n",
       "      <td>51</td>\n",
       "      <td>87.40</td>\n",
       "      <td>NaN</td>\n",
       "      <td>82</td>\n",
       "    </tr>\n",
       "  </tbody>\n",
       "</table>\n",
       "</div>"
      ],
      "text/plain": [
       "    DateTime  Number of Cargo Ships  Number of Tanker Ships  \\\n",
       "0 2019-01-01                     35                      65   \n",
       "1 2019-01-02                     27                      61   \n",
       "2 2019-01-03                     34                      63   \n",
       "3 2019-01-04                     26                      44   \n",
       "4 2019-01-05                     31                      51   \n",
       "\n",
       "   7-day Moving Average  Prior Year: 7-day Moving Average  Total Ships  \n",
       "0                100.00                               NaN          100  \n",
       "1                 94.00                               NaN           88  \n",
       "2                 95.00                               NaN           97  \n",
       "3                 88.75                               NaN           70  \n",
       "4                 87.40                               NaN           82  "
      ]
     },
     "execution_count": 5,
     "metadata": {},
     "output_type": "execute_result"
    }
   ],
   "source": [
    "data['Total Ships'] = data['Number of Cargo Ships'] + data['Number of Tanker Ships']\n",
    "data.head()"
   ]
  },
  {
   "cell_type": "code",
   "execution_count": 6,
   "metadata": {},
   "outputs": [
    {
     "name": "stdout",
     "output_type": "stream",
     "text": [
      "Series([], Name: DateTime, dtype: datetime64[ns])\n"
     ]
    }
   ],
   "source": [
    "filtered_data = data[data['Total Ships'] < 25]\n",
    "print(filtered_data['DateTime'])"
   ]
  },
  {
   "cell_type": "code",
   "execution_count": 7,
   "metadata": {},
   "outputs": [
    {
     "data": {
      "text/plain": [
       "93.50711831124202"
      ]
     },
     "execution_count": 7,
     "metadata": {},
     "output_type": "execute_result"
    }
   ],
   "source": [
    "data['Total Ships'].mean()"
   ]
  },
  {
   "cell_type": "code",
   "execution_count": 8,
   "metadata": {},
   "outputs": [
    {
     "data": {
      "text/plain": [
       "51"
      ]
     },
     "execution_count": 8,
     "metadata": {},
     "output_type": "execute_result"
    }
   ],
   "source": [
    "data['Total Ships'].min()"
   ]
  },
  {
   "cell_type": "code",
   "execution_count": 9,
   "metadata": {},
   "outputs": [
    {
     "name": "stdout",
     "output_type": "stream",
     "text": [
      "<class 'pandas.core.frame.DataFrame'>\n",
      "RangeIndex: 2037 entries, 0 to 2036\n",
      "Data columns (total 6 columns):\n",
      " #   Column                            Non-Null Count  Dtype         \n",
      "---  ------                            --------------  -----         \n",
      " 0   DateTime                          2037 non-null   datetime64[ns]\n",
      " 1   Number of Cargo Ships             2037 non-null   int64         \n",
      " 2   Number of Tanker Ships            2037 non-null   int64         \n",
      " 3   7-day Moving Average              2037 non-null   float64       \n",
      " 4   Prior Year: 7-day Moving Average  1671 non-null   float64       \n",
      " 5   Total Ships                       2037 non-null   int64         \n",
      "dtypes: datetime64[ns](1), float64(2), int64(3)\n",
      "memory usage: 95.6 KB\n"
     ]
    }
   ],
   "source": [
    "data.info()"
   ]
  },
  {
   "cell_type": "code",
   "execution_count": null,
   "metadata": {},
   "outputs": [],
   "source": []
  }
 ],
 "metadata": {
  "kernelspec": {
   "display_name": "Python 3",
   "language": "python",
   "name": "python3"
  },
  "language_info": {
   "codemirror_mode": {
    "name": "ipython",
    "version": 3
   },
   "file_extension": ".py",
   "mimetype": "text/x-python",
   "name": "python",
   "nbconvert_exporter": "python",
   "pygments_lexer": "ipython3",
   "version": "3.8.5"
  }
 },
 "nbformat": 4,
 "nbformat_minor": 4
}
