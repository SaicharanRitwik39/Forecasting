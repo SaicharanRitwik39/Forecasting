{
 "cells": [
  {
   "cell_type": "code",
   "execution_count": 1,
   "metadata": {},
   "outputs": [],
   "source": [
    "import pandas as pd\n",
    "import numpy as np"
   ]
  },
  {
   "cell_type": "code",
   "execution_count": 2,
   "metadata": {},
   "outputs": [
    {
     "data": {
      "text/html": [
       "<div>\n",
       "<style scoped>\n",
       "    .dataframe tbody tr th:only-of-type {\n",
       "        vertical-align: middle;\n",
       "    }\n",
       "\n",
       "    .dataframe tbody tr th {\n",
       "        vertical-align: top;\n",
       "    }\n",
       "\n",
       "    .dataframe thead th {\n",
       "        text-align: right;\n",
       "    }\n",
       "</style>\n",
       "<table border=\"1\" class=\"dataframe\">\n",
       "  <thead>\n",
       "    <tr style=\"text-align: right;\">\n",
       "      <th></th>\n",
       "      <th>DateTime</th>\n",
       "      <th>Number of Cargo Ships</th>\n",
       "      <th>Number of Tanker Ships</th>\n",
       "      <th>7-day Moving Average</th>\n",
       "      <th>Prior Year: 7-day Moving Average</th>\n",
       "    </tr>\n",
       "  </thead>\n",
       "  <tbody>\n",
       "    <tr>\n",
       "      <th>0</th>\n",
       "      <td>2019-01-01 00:00:00</td>\n",
       "      <td>25</td>\n",
       "      <td>21</td>\n",
       "      <td>46.0</td>\n",
       "      <td>NaN</td>\n",
       "    </tr>\n",
       "    <tr>\n",
       "      <th>1</th>\n",
       "      <td>2019-01-02 00:00:00</td>\n",
       "      <td>19</td>\n",
       "      <td>9</td>\n",
       "      <td>37.0</td>\n",
       "      <td>NaN</td>\n",
       "    </tr>\n",
       "    <tr>\n",
       "      <th>2</th>\n",
       "      <td>2019-01-03 00:00:00</td>\n",
       "      <td>22</td>\n",
       "      <td>12</td>\n",
       "      <td>36.0</td>\n",
       "      <td>NaN</td>\n",
       "    </tr>\n",
       "    <tr>\n",
       "      <th>3</th>\n",
       "      <td>2019-01-04 00:00:00</td>\n",
       "      <td>17</td>\n",
       "      <td>9</td>\n",
       "      <td>33.5</td>\n",
       "      <td>NaN</td>\n",
       "    </tr>\n",
       "    <tr>\n",
       "      <th>4</th>\n",
       "      <td>2019-01-05 00:00:00</td>\n",
       "      <td>24</td>\n",
       "      <td>13</td>\n",
       "      <td>34.2</td>\n",
       "      <td>NaN</td>\n",
       "    </tr>\n",
       "  </tbody>\n",
       "</table>\n",
       "</div>"
      ],
      "text/plain": [
       "              DateTime  Number of Cargo Ships  Number of Tanker Ships  \\\n",
       "0  2019-01-01 00:00:00                     25                      21   \n",
       "1  2019-01-02 00:00:00                     19                       9   \n",
       "2  2019-01-03 00:00:00                     22                      12   \n",
       "3  2019-01-04 00:00:00                     17                       9   \n",
       "4  2019-01-05 00:00:00                     24                      13   \n",
       "\n",
       "   7-day Moving Average  Prior Year: 7-day Moving Average  \n",
       "0                  46.0                               NaN  \n",
       "1                  37.0                               NaN  \n",
       "2                  36.0                               NaN  \n",
       "3                  33.5                               NaN  \n",
       "4                  34.2                               NaN  "
      ]
     },
     "execution_count": 2,
     "metadata": {},
     "output_type": "execute_result"
    }
   ],
   "source": [
    "data=pd.read_csv('panama-canal-daily-trans.csv')\n",
    "data.head()"
   ]
  },
  {
   "cell_type": "code",
   "execution_count": 3,
   "metadata": {},
   "outputs": [],
   "source": [
    "data['DateTime'] = pd.to_datetime(data['DateTime'])\n",
    "\n",
    "# Filter the data for May 2024 to present day (assuming today's date is known)\n",
    "start_date = '2024-05-01'\n",
    "end_date = '2024-07-31'  # assuming today's date is July 31, 2024\n",
    "\n",
    "filtered_data = data[(data['DateTime'] >= start_date) & (data['DateTime'] <= end_date)]"
   ]
  },
  {
   "cell_type": "code",
   "execution_count": 4,
   "metadata": {},
   "outputs": [
    {
     "data": {
      "text/html": [
       "<div>\n",
       "<style scoped>\n",
       "    .dataframe tbody tr th:only-of-type {\n",
       "        vertical-align: middle;\n",
       "    }\n",
       "\n",
       "    .dataframe tbody tr th {\n",
       "        vertical-align: top;\n",
       "    }\n",
       "\n",
       "    .dataframe thead th {\n",
       "        text-align: right;\n",
       "    }\n",
       "</style>\n",
       "<table border=\"1\" class=\"dataframe\">\n",
       "  <thead>\n",
       "    <tr style=\"text-align: right;\">\n",
       "      <th></th>\n",
       "      <th>DateTime</th>\n",
       "      <th>Number of Cargo Ships</th>\n",
       "      <th>Number of Tanker Ships</th>\n",
       "      <th>7-day Moving Average</th>\n",
       "      <th>Prior Year: 7-day Moving Average</th>\n",
       "    </tr>\n",
       "  </thead>\n",
       "  <tbody>\n",
       "    <tr>\n",
       "      <th>1947</th>\n",
       "      <td>2024-05-01</td>\n",
       "      <td>16</td>\n",
       "      <td>9</td>\n",
       "      <td>22.285714</td>\n",
       "      <td>32.000000</td>\n",
       "    </tr>\n",
       "    <tr>\n",
       "      <th>1948</th>\n",
       "      <td>2024-05-02</td>\n",
       "      <td>11</td>\n",
       "      <td>9</td>\n",
       "      <td>22.571429</td>\n",
       "      <td>31.857143</td>\n",
       "    </tr>\n",
       "    <tr>\n",
       "      <th>1949</th>\n",
       "      <td>2024-05-03</td>\n",
       "      <td>13</td>\n",
       "      <td>8</td>\n",
       "      <td>22.571429</td>\n",
       "      <td>31.857143</td>\n",
       "    </tr>\n",
       "    <tr>\n",
       "      <th>1950</th>\n",
       "      <td>2024-05-04</td>\n",
       "      <td>13</td>\n",
       "      <td>9</td>\n",
       "      <td>22.571429</td>\n",
       "      <td>31.571429</td>\n",
       "    </tr>\n",
       "    <tr>\n",
       "      <th>1951</th>\n",
       "      <td>2024-05-05</td>\n",
       "      <td>8</td>\n",
       "      <td>12</td>\n",
       "      <td>22.000000</td>\n",
       "      <td>31.571429</td>\n",
       "    </tr>\n",
       "  </tbody>\n",
       "</table>\n",
       "</div>"
      ],
      "text/plain": [
       "       DateTime  Number of Cargo Ships  Number of Tanker Ships  \\\n",
       "1947 2024-05-01                     16                       9   \n",
       "1948 2024-05-02                     11                       9   \n",
       "1949 2024-05-03                     13                       8   \n",
       "1950 2024-05-04                     13                       9   \n",
       "1951 2024-05-05                      8                      12   \n",
       "\n",
       "      7-day Moving Average  Prior Year: 7-day Moving Average  \n",
       "1947             22.285714                         32.000000  \n",
       "1948             22.571429                         31.857143  \n",
       "1949             22.571429                         31.857143  \n",
       "1950             22.571429                         31.571429  \n",
       "1951             22.000000                         31.571429  "
      ]
     },
     "execution_count": 4,
     "metadata": {},
     "output_type": "execute_result"
    }
   ],
   "source": [
    "filtered_data.head()"
   ]
  },
  {
   "cell_type": "code",
   "execution_count": 5,
   "metadata": {},
   "outputs": [
    {
     "name": "stderr",
     "output_type": "stream",
     "text": [
      "<ipython-input-5-b0012e37f8ec>:1: SettingWithCopyWarning: \n",
      "A value is trying to be set on a copy of a slice from a DataFrame.\n",
      "Try using .loc[row_indexer,col_indexer] = value instead\n",
      "\n",
      "See the caveats in the documentation: https://pandas.pydata.org/pandas-docs/stable/user_guide/indexing.html#returning-a-view-versus-a-copy\n",
      "  filtered_data['Total Ships']=filtered_data['Number of Cargo Ships']+filtered_data['Number of Tanker Ships']\n"
     ]
    },
    {
     "data": {
      "text/html": [
       "<div>\n",
       "<style scoped>\n",
       "    .dataframe tbody tr th:only-of-type {\n",
       "        vertical-align: middle;\n",
       "    }\n",
       "\n",
       "    .dataframe tbody tr th {\n",
       "        vertical-align: top;\n",
       "    }\n",
       "\n",
       "    .dataframe thead th {\n",
       "        text-align: right;\n",
       "    }\n",
       "</style>\n",
       "<table border=\"1\" class=\"dataframe\">\n",
       "  <thead>\n",
       "    <tr style=\"text-align: right;\">\n",
       "      <th></th>\n",
       "      <th>DateTime</th>\n",
       "      <th>Number of Cargo Ships</th>\n",
       "      <th>Number of Tanker Ships</th>\n",
       "      <th>7-day Moving Average</th>\n",
       "      <th>Prior Year: 7-day Moving Average</th>\n",
       "      <th>Total Ships</th>\n",
       "    </tr>\n",
       "  </thead>\n",
       "  <tbody>\n",
       "    <tr>\n",
       "      <th>1947</th>\n",
       "      <td>2024-05-01</td>\n",
       "      <td>16</td>\n",
       "      <td>9</td>\n",
       "      <td>22.285714</td>\n",
       "      <td>32.000000</td>\n",
       "      <td>25</td>\n",
       "    </tr>\n",
       "    <tr>\n",
       "      <th>1948</th>\n",
       "      <td>2024-05-02</td>\n",
       "      <td>11</td>\n",
       "      <td>9</td>\n",
       "      <td>22.571429</td>\n",
       "      <td>31.857143</td>\n",
       "      <td>20</td>\n",
       "    </tr>\n",
       "    <tr>\n",
       "      <th>1949</th>\n",
       "      <td>2024-05-03</td>\n",
       "      <td>13</td>\n",
       "      <td>8</td>\n",
       "      <td>22.571429</td>\n",
       "      <td>31.857143</td>\n",
       "      <td>21</td>\n",
       "    </tr>\n",
       "    <tr>\n",
       "      <th>1950</th>\n",
       "      <td>2024-05-04</td>\n",
       "      <td>13</td>\n",
       "      <td>9</td>\n",
       "      <td>22.571429</td>\n",
       "      <td>31.571429</td>\n",
       "      <td>22</td>\n",
       "    </tr>\n",
       "    <tr>\n",
       "      <th>1951</th>\n",
       "      <td>2024-05-05</td>\n",
       "      <td>8</td>\n",
       "      <td>12</td>\n",
       "      <td>22.000000</td>\n",
       "      <td>31.571429</td>\n",
       "      <td>20</td>\n",
       "    </tr>\n",
       "  </tbody>\n",
       "</table>\n",
       "</div>"
      ],
      "text/plain": [
       "       DateTime  Number of Cargo Ships  Number of Tanker Ships  \\\n",
       "1947 2024-05-01                     16                       9   \n",
       "1948 2024-05-02                     11                       9   \n",
       "1949 2024-05-03                     13                       8   \n",
       "1950 2024-05-04                     13                       9   \n",
       "1951 2024-05-05                      8                      12   \n",
       "\n",
       "      7-day Moving Average  Prior Year: 7-day Moving Average  Total Ships  \n",
       "1947             22.285714                         32.000000           25  \n",
       "1948             22.571429                         31.857143           20  \n",
       "1949             22.571429                         31.857143           21  \n",
       "1950             22.571429                         31.571429           22  \n",
       "1951             22.000000                         31.571429           20  "
      ]
     },
     "execution_count": 5,
     "metadata": {},
     "output_type": "execute_result"
    }
   ],
   "source": [
    "filtered_data['Total Ships']=filtered_data['Number of Cargo Ships']+filtered_data['Number of Tanker Ships']\n",
    "filtered_data.head()"
   ]
  },
  {
   "cell_type": "code",
   "execution_count": 6,
   "metadata": {},
   "outputs": [
    {
     "data": {
      "text/plain": [
       "24.607142857142858"
      ]
     },
     "execution_count": 6,
     "metadata": {},
     "output_type": "execute_result"
    }
   ],
   "source": [
    "filtered_data['Total Ships'].mean()"
   ]
  },
  {
   "cell_type": "code",
   "execution_count": 7,
   "metadata": {},
   "outputs": [
    {
     "data": {
      "text/html": [
       "<div>\n",
       "<style scoped>\n",
       "    .dataframe tbody tr th:only-of-type {\n",
       "        vertical-align: middle;\n",
       "    }\n",
       "\n",
       "    .dataframe tbody tr th {\n",
       "        vertical-align: top;\n",
       "    }\n",
       "\n",
       "    .dataframe thead th {\n",
       "        text-align: right;\n",
       "    }\n",
       "</style>\n",
       "<table border=\"1\" class=\"dataframe\">\n",
       "  <thead>\n",
       "    <tr style=\"text-align: right;\">\n",
       "      <th></th>\n",
       "      <th>DateTime</th>\n",
       "      <th>Number of Cargo Ships</th>\n",
       "      <th>Number of Tanker Ships</th>\n",
       "      <th>7-day Moving Average</th>\n",
       "      <th>Prior Year: 7-day Moving Average</th>\n",
       "      <th>Total Ships</th>\n",
       "    </tr>\n",
       "  </thead>\n",
       "  <tbody>\n",
       "    <tr>\n",
       "      <th>2026</th>\n",
       "      <td>2024-07-19</td>\n",
       "      <td>17</td>\n",
       "      <td>11</td>\n",
       "      <td>27.000000</td>\n",
       "      <td>30.571429</td>\n",
       "      <td>28</td>\n",
       "    </tr>\n",
       "    <tr>\n",
       "      <th>2027</th>\n",
       "      <td>2024-07-20</td>\n",
       "      <td>15</td>\n",
       "      <td>14</td>\n",
       "      <td>26.857143</td>\n",
       "      <td>30.000000</td>\n",
       "      <td>29</td>\n",
       "    </tr>\n",
       "    <tr>\n",
       "      <th>2028</th>\n",
       "      <td>2024-07-21</td>\n",
       "      <td>15</td>\n",
       "      <td>12</td>\n",
       "      <td>26.857143</td>\n",
       "      <td>29.428571</td>\n",
       "      <td>27</td>\n",
       "    </tr>\n",
       "    <tr>\n",
       "      <th>2029</th>\n",
       "      <td>2024-07-22</td>\n",
       "      <td>20</td>\n",
       "      <td>10</td>\n",
       "      <td>27.000000</td>\n",
       "      <td>29.142857</td>\n",
       "      <td>30</td>\n",
       "    </tr>\n",
       "    <tr>\n",
       "      <th>2030</th>\n",
       "      <td>2024-07-23</td>\n",
       "      <td>12</td>\n",
       "      <td>13</td>\n",
       "      <td>26.857143</td>\n",
       "      <td>29.714286</td>\n",
       "      <td>25</td>\n",
       "    </tr>\n",
       "  </tbody>\n",
       "</table>\n",
       "</div>"
      ],
      "text/plain": [
       "       DateTime  Number of Cargo Ships  Number of Tanker Ships  \\\n",
       "2026 2024-07-19                     17                      11   \n",
       "2027 2024-07-20                     15                      14   \n",
       "2028 2024-07-21                     15                      12   \n",
       "2029 2024-07-22                     20                      10   \n",
       "2030 2024-07-23                     12                      13   \n",
       "\n",
       "      7-day Moving Average  Prior Year: 7-day Moving Average  Total Ships  \n",
       "2026             27.000000                         30.571429           28  \n",
       "2027             26.857143                         30.000000           29  \n",
       "2028             26.857143                         29.428571           27  \n",
       "2029             27.000000                         29.142857           30  \n",
       "2030             26.857143                         29.714286           25  "
      ]
     },
     "execution_count": 7,
     "metadata": {},
     "output_type": "execute_result"
    }
   ],
   "source": [
    "filtered_data.tail()"
   ]
  },
  {
   "cell_type": "code",
   "execution_count": 8,
   "metadata": {},
   "outputs": [
    {
     "data": {
      "text/plain": [
       "2067"
      ]
     },
     "execution_count": 8,
     "metadata": {},
     "output_type": "execute_result"
    }
   ],
   "source": [
    "filtered_data['Total Ships'].sum()"
   ]
  },
  {
   "cell_type": "markdown",
   "metadata": {},
   "source": [
    "### July Data Onwards"
   ]
  },
  {
   "cell_type": "code",
   "execution_count": 9,
   "metadata": {},
   "outputs": [],
   "source": [
    "start_date = '2024-07-01'\n",
    "end_date = '2024-07-31'\n",
    "\n",
    "df = data[(data['DateTime'] >= start_date) & (data['DateTime'] <= end_date)]"
   ]
  },
  {
   "cell_type": "code",
   "execution_count": 10,
   "metadata": {},
   "outputs": [
    {
     "data": {
      "text/html": [
       "<div>\n",
       "<style scoped>\n",
       "    .dataframe tbody tr th:only-of-type {\n",
       "        vertical-align: middle;\n",
       "    }\n",
       "\n",
       "    .dataframe tbody tr th {\n",
       "        vertical-align: top;\n",
       "    }\n",
       "\n",
       "    .dataframe thead th {\n",
       "        text-align: right;\n",
       "    }\n",
       "</style>\n",
       "<table border=\"1\" class=\"dataframe\">\n",
       "  <thead>\n",
       "    <tr style=\"text-align: right;\">\n",
       "      <th></th>\n",
       "      <th>DateTime</th>\n",
       "      <th>Number of Cargo Ships</th>\n",
       "      <th>Number of Tanker Ships</th>\n",
       "      <th>7-day Moving Average</th>\n",
       "      <th>Prior Year: 7-day Moving Average</th>\n",
       "    </tr>\n",
       "  </thead>\n",
       "  <tbody>\n",
       "    <tr>\n",
       "      <th>2008</th>\n",
       "      <td>2024-07-01</td>\n",
       "      <td>14</td>\n",
       "      <td>9</td>\n",
       "      <td>25.142857</td>\n",
       "      <td>33.000000</td>\n",
       "    </tr>\n",
       "    <tr>\n",
       "      <th>2009</th>\n",
       "      <td>2024-07-02</td>\n",
       "      <td>9</td>\n",
       "      <td>9</td>\n",
       "      <td>25.285714</td>\n",
       "      <td>33.142857</td>\n",
       "    </tr>\n",
       "    <tr>\n",
       "      <th>2010</th>\n",
       "      <td>2024-07-03</td>\n",
       "      <td>10</td>\n",
       "      <td>11</td>\n",
       "      <td>24.714286</td>\n",
       "      <td>33.857143</td>\n",
       "    </tr>\n",
       "    <tr>\n",
       "      <th>2011</th>\n",
       "      <td>2024-07-04</td>\n",
       "      <td>13</td>\n",
       "      <td>14</td>\n",
       "      <td>24.428571</td>\n",
       "      <td>33.571429</td>\n",
       "    </tr>\n",
       "    <tr>\n",
       "      <th>2012</th>\n",
       "      <td>2024-07-05</td>\n",
       "      <td>17</td>\n",
       "      <td>13</td>\n",
       "      <td>25.428571</td>\n",
       "      <td>33.142857</td>\n",
       "    </tr>\n",
       "  </tbody>\n",
       "</table>\n",
       "</div>"
      ],
      "text/plain": [
       "       DateTime  Number of Cargo Ships  Number of Tanker Ships  \\\n",
       "2008 2024-07-01                     14                       9   \n",
       "2009 2024-07-02                      9                       9   \n",
       "2010 2024-07-03                     10                      11   \n",
       "2011 2024-07-04                     13                      14   \n",
       "2012 2024-07-05                     17                      13   \n",
       "\n",
       "      7-day Moving Average  Prior Year: 7-day Moving Average  \n",
       "2008             25.142857                         33.000000  \n",
       "2009             25.285714                         33.142857  \n",
       "2010             24.714286                         33.857143  \n",
       "2011             24.428571                         33.571429  \n",
       "2012             25.428571                         33.142857  "
      ]
     },
     "execution_count": 10,
     "metadata": {},
     "output_type": "execute_result"
    }
   ],
   "source": [
    "df.head()"
   ]
  },
  {
   "cell_type": "code",
   "execution_count": 11,
   "metadata": {},
   "outputs": [
    {
     "name": "stderr",
     "output_type": "stream",
     "text": [
      "<ipython-input-11-d0a6d3464ac4>:1: SettingWithCopyWarning: \n",
      "A value is trying to be set on a copy of a slice from a DataFrame.\n",
      "Try using .loc[row_indexer,col_indexer] = value instead\n",
      "\n",
      "See the caveats in the documentation: https://pandas.pydata.org/pandas-docs/stable/user_guide/indexing.html#returning-a-view-versus-a-copy\n",
      "  df['Total Ships'] = df['Number of Cargo Ships'] + df['Number of Tanker Ships']\n"
     ]
    },
    {
     "data": {
      "text/html": [
       "<div>\n",
       "<style scoped>\n",
       "    .dataframe tbody tr th:only-of-type {\n",
       "        vertical-align: middle;\n",
       "    }\n",
       "\n",
       "    .dataframe tbody tr th {\n",
       "        vertical-align: top;\n",
       "    }\n",
       "\n",
       "    .dataframe thead th {\n",
       "        text-align: right;\n",
       "    }\n",
       "</style>\n",
       "<table border=\"1\" class=\"dataframe\">\n",
       "  <thead>\n",
       "    <tr style=\"text-align: right;\">\n",
       "      <th></th>\n",
       "      <th>DateTime</th>\n",
       "      <th>Number of Cargo Ships</th>\n",
       "      <th>Number of Tanker Ships</th>\n",
       "      <th>7-day Moving Average</th>\n",
       "      <th>Prior Year: 7-day Moving Average</th>\n",
       "      <th>Total Ships</th>\n",
       "    </tr>\n",
       "  </thead>\n",
       "  <tbody>\n",
       "    <tr>\n",
       "      <th>2008</th>\n",
       "      <td>2024-07-01</td>\n",
       "      <td>14</td>\n",
       "      <td>9</td>\n",
       "      <td>25.142857</td>\n",
       "      <td>33.000000</td>\n",
       "      <td>23</td>\n",
       "    </tr>\n",
       "    <tr>\n",
       "      <th>2009</th>\n",
       "      <td>2024-07-02</td>\n",
       "      <td>9</td>\n",
       "      <td>9</td>\n",
       "      <td>25.285714</td>\n",
       "      <td>33.142857</td>\n",
       "      <td>18</td>\n",
       "    </tr>\n",
       "    <tr>\n",
       "      <th>2010</th>\n",
       "      <td>2024-07-03</td>\n",
       "      <td>10</td>\n",
       "      <td>11</td>\n",
       "      <td>24.714286</td>\n",
       "      <td>33.857143</td>\n",
       "      <td>21</td>\n",
       "    </tr>\n",
       "    <tr>\n",
       "      <th>2011</th>\n",
       "      <td>2024-07-04</td>\n",
       "      <td>13</td>\n",
       "      <td>14</td>\n",
       "      <td>24.428571</td>\n",
       "      <td>33.571429</td>\n",
       "      <td>27</td>\n",
       "    </tr>\n",
       "    <tr>\n",
       "      <th>2012</th>\n",
       "      <td>2024-07-05</td>\n",
       "      <td>17</td>\n",
       "      <td>13</td>\n",
       "      <td>25.428571</td>\n",
       "      <td>33.142857</td>\n",
       "      <td>30</td>\n",
       "    </tr>\n",
       "  </tbody>\n",
       "</table>\n",
       "</div>"
      ],
      "text/plain": [
       "       DateTime  Number of Cargo Ships  Number of Tanker Ships  \\\n",
       "2008 2024-07-01                     14                       9   \n",
       "2009 2024-07-02                      9                       9   \n",
       "2010 2024-07-03                     10                      11   \n",
       "2011 2024-07-04                     13                      14   \n",
       "2012 2024-07-05                     17                      13   \n",
       "\n",
       "      7-day Moving Average  Prior Year: 7-day Moving Average  Total Ships  \n",
       "2008             25.142857                         33.000000           23  \n",
       "2009             25.285714                         33.142857           18  \n",
       "2010             24.714286                         33.857143           21  \n",
       "2011             24.428571                         33.571429           27  \n",
       "2012             25.428571                         33.142857           30  "
      ]
     },
     "execution_count": 11,
     "metadata": {},
     "output_type": "execute_result"
    }
   ],
   "source": [
    "df['Total Ships'] = df['Number of Cargo Ships'] + df['Number of Tanker Ships']\n",
    "df.head()"
   ]
  },
  {
   "cell_type": "code",
   "execution_count": 12,
   "metadata": {},
   "outputs": [
    {
     "data": {
      "text/plain": [
       "26.17391304347826"
      ]
     },
     "execution_count": 12,
     "metadata": {},
     "output_type": "execute_result"
    }
   ],
   "source": [
    "df['Total Ships'].mean()"
   ]
  },
  {
   "cell_type": "code",
   "execution_count": 13,
   "metadata": {},
   "outputs": [
    {
     "data": {
      "text/plain": [
       "602"
      ]
     },
     "execution_count": 13,
     "metadata": {},
     "output_type": "execute_result"
    }
   ],
   "source": [
    "df['Total Ships'].sum()"
   ]
  },
  {
   "cell_type": "code",
   "execution_count": 14,
   "metadata": {},
   "outputs": [
    {
     "data": {
      "text/html": [
       "<div>\n",
       "<style scoped>\n",
       "    .dataframe tbody tr th:only-of-type {\n",
       "        vertical-align: middle;\n",
       "    }\n",
       "\n",
       "    .dataframe tbody tr th {\n",
       "        vertical-align: top;\n",
       "    }\n",
       "\n",
       "    .dataframe thead th {\n",
       "        text-align: right;\n",
       "    }\n",
       "</style>\n",
       "<table border=\"1\" class=\"dataframe\">\n",
       "  <thead>\n",
       "    <tr style=\"text-align: right;\">\n",
       "      <th></th>\n",
       "      <th>DateTime</th>\n",
       "      <th>Number of Cargo Ships</th>\n",
       "      <th>Number of Tanker Ships</th>\n",
       "      <th>7-day Moving Average</th>\n",
       "      <th>Prior Year: 7-day Moving Average</th>\n",
       "      <th>Total Ships</th>\n",
       "    </tr>\n",
       "  </thead>\n",
       "  <tbody>\n",
       "    <tr>\n",
       "      <th>2026</th>\n",
       "      <td>2024-07-19</td>\n",
       "      <td>17</td>\n",
       "      <td>11</td>\n",
       "      <td>27.000000</td>\n",
       "      <td>30.571429</td>\n",
       "      <td>28</td>\n",
       "    </tr>\n",
       "    <tr>\n",
       "      <th>2027</th>\n",
       "      <td>2024-07-20</td>\n",
       "      <td>15</td>\n",
       "      <td>14</td>\n",
       "      <td>26.857143</td>\n",
       "      <td>30.000000</td>\n",
       "      <td>29</td>\n",
       "    </tr>\n",
       "    <tr>\n",
       "      <th>2028</th>\n",
       "      <td>2024-07-21</td>\n",
       "      <td>15</td>\n",
       "      <td>12</td>\n",
       "      <td>26.857143</td>\n",
       "      <td>29.428571</td>\n",
       "      <td>27</td>\n",
       "    </tr>\n",
       "    <tr>\n",
       "      <th>2029</th>\n",
       "      <td>2024-07-22</td>\n",
       "      <td>20</td>\n",
       "      <td>10</td>\n",
       "      <td>27.000000</td>\n",
       "      <td>29.142857</td>\n",
       "      <td>30</td>\n",
       "    </tr>\n",
       "    <tr>\n",
       "      <th>2030</th>\n",
       "      <td>2024-07-23</td>\n",
       "      <td>12</td>\n",
       "      <td>13</td>\n",
       "      <td>26.857143</td>\n",
       "      <td>29.714286</td>\n",
       "      <td>25</td>\n",
       "    </tr>\n",
       "  </tbody>\n",
       "</table>\n",
       "</div>"
      ],
      "text/plain": [
       "       DateTime  Number of Cargo Ships  Number of Tanker Ships  \\\n",
       "2026 2024-07-19                     17                      11   \n",
       "2027 2024-07-20                     15                      14   \n",
       "2028 2024-07-21                     15                      12   \n",
       "2029 2024-07-22                     20                      10   \n",
       "2030 2024-07-23                     12                      13   \n",
       "\n",
       "      7-day Moving Average  Prior Year: 7-day Moving Average  Total Ships  \n",
       "2026             27.000000                         30.571429           28  \n",
       "2027             26.857143                         30.000000           29  \n",
       "2028             26.857143                         29.428571           27  \n",
       "2029             27.000000                         29.142857           30  \n",
       "2030             26.857143                         29.714286           25  "
      ]
     },
     "execution_count": 14,
     "metadata": {},
     "output_type": "execute_result"
    }
   ],
   "source": [
    "df.tail()"
   ]
  },
  {
   "cell_type": "code",
   "execution_count": 15,
   "metadata": {},
   "outputs": [],
   "source": [
    "## There are still 22 days left using this data."
   ]
  },
  {
   "cell_type": "code",
   "execution_count": 16,
   "metadata": {},
   "outputs": [
    {
     "data": {
      "text/plain": [
       "818.74"
      ]
     },
     "execution_count": 16,
     "metadata": {},
     "output_type": "execute_result"
    }
   ],
   "source": [
    "243 + 22*26.17"
   ]
  },
  {
   "cell_type": "code",
   "execution_count": 29,
   "metadata": {},
   "outputs": [
    {
     "data": {
      "text/html": [
       "<div>\n",
       "<style scoped>\n",
       "    .dataframe tbody tr th:only-of-type {\n",
       "        vertical-align: middle;\n",
       "    }\n",
       "\n",
       "    .dataframe tbody tr th {\n",
       "        vertical-align: top;\n",
       "    }\n",
       "\n",
       "    .dataframe thead th {\n",
       "        text-align: right;\n",
       "    }\n",
       "</style>\n",
       "<table border=\"1\" class=\"dataframe\">\n",
       "  <thead>\n",
       "    <tr style=\"text-align: right;\">\n",
       "      <th></th>\n",
       "      <th>DateTime</th>\n",
       "      <th>Number of Cargo Ships</th>\n",
       "      <th>Number of Tanker Ships</th>\n",
       "      <th>7-day Moving Average</th>\n",
       "      <th>Prior Year: 7-day Moving Average</th>\n",
       "      <th>Total Ships</th>\n",
       "    </tr>\n",
       "  </thead>\n",
       "  <tbody>\n",
       "    <tr>\n",
       "      <th>2026</th>\n",
       "      <td>2024-07-19</td>\n",
       "      <td>17</td>\n",
       "      <td>11</td>\n",
       "      <td>27.000000</td>\n",
       "      <td>30.571429</td>\n",
       "      <td>28</td>\n",
       "    </tr>\n",
       "    <tr>\n",
       "      <th>2027</th>\n",
       "      <td>2024-07-20</td>\n",
       "      <td>15</td>\n",
       "      <td>14</td>\n",
       "      <td>26.857143</td>\n",
       "      <td>30.000000</td>\n",
       "      <td>29</td>\n",
       "    </tr>\n",
       "    <tr>\n",
       "      <th>2028</th>\n",
       "      <td>2024-07-21</td>\n",
       "      <td>15</td>\n",
       "      <td>12</td>\n",
       "      <td>26.857143</td>\n",
       "      <td>29.428571</td>\n",
       "      <td>27</td>\n",
       "    </tr>\n",
       "    <tr>\n",
       "      <th>2029</th>\n",
       "      <td>2024-07-22</td>\n",
       "      <td>20</td>\n",
       "      <td>10</td>\n",
       "      <td>27.000000</td>\n",
       "      <td>29.142857</td>\n",
       "      <td>30</td>\n",
       "    </tr>\n",
       "    <tr>\n",
       "      <th>2030</th>\n",
       "      <td>2024-07-23</td>\n",
       "      <td>12</td>\n",
       "      <td>13</td>\n",
       "      <td>26.857143</td>\n",
       "      <td>29.714286</td>\n",
       "      <td>25</td>\n",
       "    </tr>\n",
       "  </tbody>\n",
       "</table>\n",
       "</div>"
      ],
      "text/plain": [
       "       DateTime  Number of Cargo Ships  Number of Tanker Ships  \\\n",
       "2026 2024-07-19                     17                      11   \n",
       "2027 2024-07-20                     15                      14   \n",
       "2028 2024-07-21                     15                      12   \n",
       "2029 2024-07-22                     20                      10   \n",
       "2030 2024-07-23                     12                      13   \n",
       "\n",
       "      7-day Moving Average  Prior Year: 7-day Moving Average  Total Ships  \n",
       "2026             27.000000                         30.571429           28  \n",
       "2027             26.857143                         30.000000           29  \n",
       "2028             26.857143                         29.428571           27  \n",
       "2029             27.000000                         29.142857           30  \n",
       "2030             26.857143                         29.714286           25  "
      ]
     },
     "execution_count": 29,
     "metadata": {},
     "output_type": "execute_result"
    }
   ],
   "source": [
    "df.tail()"
   ]
  },
  {
   "cell_type": "code",
   "execution_count": null,
   "metadata": {},
   "outputs": [],
   "source": []
  }
 ],
 "metadata": {
  "kernelspec": {
   "display_name": "Python 3",
   "language": "python",
   "name": "python3"
  },
  "language_info": {
   "codemirror_mode": {
    "name": "ipython",
    "version": 3
   },
   "file_extension": ".py",
   "mimetype": "text/x-python",
   "name": "python",
   "nbconvert_exporter": "python",
   "pygments_lexer": "ipython3",
   "version": "3.8.5"
  }
 },
 "nbformat": 4,
 "nbformat_minor": 4
}
