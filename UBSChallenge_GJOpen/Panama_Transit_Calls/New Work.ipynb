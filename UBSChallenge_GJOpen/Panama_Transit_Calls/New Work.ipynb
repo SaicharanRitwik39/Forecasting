{
 "cells": [
  {
   "cell_type": "code",
   "execution_count": 1,
   "metadata": {},
   "outputs": [],
   "source": [
    "import pandas as pd\n",
    "import numpy as np"
   ]
  },
  {
   "cell_type": "code",
   "execution_count": 3,
   "metadata": {},
   "outputs": [
    {
     "data": {
      "text/html": [
       "<div>\n",
       "<style scoped>\n",
       "    .dataframe tbody tr th:only-of-type {\n",
       "        vertical-align: middle;\n",
       "    }\n",
       "\n",
       "    .dataframe tbody tr th {\n",
       "        vertical-align: top;\n",
       "    }\n",
       "\n",
       "    .dataframe thead th {\n",
       "        text-align: right;\n",
       "    }\n",
       "</style>\n",
       "<table border=\"1\" class=\"dataframe\">\n",
       "  <thead>\n",
       "    <tr style=\"text-align: right;\">\n",
       "      <th></th>\n",
       "      <th>DateTime</th>\n",
       "      <th>Number of Cargo Ships</th>\n",
       "      <th>Number of Tanker Ships</th>\n",
       "      <th>7-day Moving Average</th>\n",
       "      <th>Prior Year: 7-day Moving Average</th>\n",
       "    </tr>\n",
       "  </thead>\n",
       "  <tbody>\n",
       "    <tr>\n",
       "      <th>0</th>\n",
       "      <td>2019-01-01 00:00:00</td>\n",
       "      <td>25</td>\n",
       "      <td>21</td>\n",
       "      <td>46.0</td>\n",
       "      <td>NaN</td>\n",
       "    </tr>\n",
       "    <tr>\n",
       "      <th>1</th>\n",
       "      <td>2019-01-02 00:00:00</td>\n",
       "      <td>19</td>\n",
       "      <td>9</td>\n",
       "      <td>37.0</td>\n",
       "      <td>NaN</td>\n",
       "    </tr>\n",
       "    <tr>\n",
       "      <th>2</th>\n",
       "      <td>2019-01-03 00:00:00</td>\n",
       "      <td>22</td>\n",
       "      <td>12</td>\n",
       "      <td>36.0</td>\n",
       "      <td>NaN</td>\n",
       "    </tr>\n",
       "    <tr>\n",
       "      <th>3</th>\n",
       "      <td>2019-01-04 00:00:00</td>\n",
       "      <td>17</td>\n",
       "      <td>9</td>\n",
       "      <td>33.5</td>\n",
       "      <td>NaN</td>\n",
       "    </tr>\n",
       "    <tr>\n",
       "      <th>4</th>\n",
       "      <td>2019-01-05 00:00:00</td>\n",
       "      <td>24</td>\n",
       "      <td>13</td>\n",
       "      <td>34.2</td>\n",
       "      <td>NaN</td>\n",
       "    </tr>\n",
       "  </tbody>\n",
       "</table>\n",
       "</div>"
      ],
      "text/plain": [
       "              DateTime  Number of Cargo Ships  Number of Tanker Ships  \\\n",
       "0  2019-01-01 00:00:00                     25                      21   \n",
       "1  2019-01-02 00:00:00                     19                       9   \n",
       "2  2019-01-03 00:00:00                     22                      12   \n",
       "3  2019-01-04 00:00:00                     17                       9   \n",
       "4  2019-01-05 00:00:00                     24                      13   \n",
       "\n",
       "   7-day Moving Average  Prior Year: 7-day Moving Average  \n",
       "0                  46.0                               NaN  \n",
       "1                  37.0                               NaN  \n",
       "2                  36.0                               NaN  \n",
       "3                  33.5                               NaN  \n",
       "4                  34.2                               NaN  "
      ]
     },
     "execution_count": 3,
     "metadata": {},
     "output_type": "execute_result"
    }
   ],
   "source": [
    "data=pd.read_csv('TransitCallsFinal.csv')\n",
    "data.head()"
   ]
  },
  {
   "cell_type": "code",
   "execution_count": 4,
   "metadata": {},
   "outputs": [],
   "source": [
    "data['DateTime'] = pd.to_datetime(data['DateTime'])\n",
    "start_date = '2024-07-15'\n",
    "end_date = '2024-08-15' \n",
    "df = data[(data['DateTime'] >= start_date) & (data['DateTime'] <= end_date)]"
   ]
  },
  {
   "cell_type": "code",
   "execution_count": 5,
   "metadata": {},
   "outputs": [
    {
     "data": {
      "text/html": [
       "<div>\n",
       "<style scoped>\n",
       "    .dataframe tbody tr th:only-of-type {\n",
       "        vertical-align: middle;\n",
       "    }\n",
       "\n",
       "    .dataframe tbody tr th {\n",
       "        vertical-align: top;\n",
       "    }\n",
       "\n",
       "    .dataframe thead th {\n",
       "        text-align: right;\n",
       "    }\n",
       "</style>\n",
       "<table border=\"1\" class=\"dataframe\">\n",
       "  <thead>\n",
       "    <tr style=\"text-align: right;\">\n",
       "      <th></th>\n",
       "      <th>DateTime</th>\n",
       "      <th>Number of Cargo Ships</th>\n",
       "      <th>Number of Tanker Ships</th>\n",
       "      <th>7-day Moving Average</th>\n",
       "      <th>Prior Year: 7-day Moving Average</th>\n",
       "    </tr>\n",
       "  </thead>\n",
       "  <tbody>\n",
       "    <tr>\n",
       "      <th>2045</th>\n",
       "      <td>2024-08-07</td>\n",
       "      <td>13</td>\n",
       "      <td>14</td>\n",
       "      <td>23.142857</td>\n",
       "      <td>31.428571</td>\n",
       "    </tr>\n",
       "    <tr>\n",
       "      <th>2046</th>\n",
       "      <td>2024-08-08</td>\n",
       "      <td>22</td>\n",
       "      <td>8</td>\n",
       "      <td>25.142857</td>\n",
       "      <td>31.142857</td>\n",
       "    </tr>\n",
       "    <tr>\n",
       "      <th>2047</th>\n",
       "      <td>2024-08-09</td>\n",
       "      <td>18</td>\n",
       "      <td>10</td>\n",
       "      <td>25.285714</td>\n",
       "      <td>30.571429</td>\n",
       "    </tr>\n",
       "    <tr>\n",
       "      <th>2048</th>\n",
       "      <td>2024-08-10</td>\n",
       "      <td>17</td>\n",
       "      <td>15</td>\n",
       "      <td>26.714286</td>\n",
       "      <td>30.714286</td>\n",
       "    </tr>\n",
       "    <tr>\n",
       "      <th>2049</th>\n",
       "      <td>2024-08-11</td>\n",
       "      <td>14</td>\n",
       "      <td>11</td>\n",
       "      <td>27.857143</td>\n",
       "      <td>30.285714</td>\n",
       "    </tr>\n",
       "  </tbody>\n",
       "</table>\n",
       "</div>"
      ],
      "text/plain": [
       "       DateTime  Number of Cargo Ships  Number of Tanker Ships  \\\n",
       "2045 2024-08-07                     13                      14   \n",
       "2046 2024-08-08                     22                       8   \n",
       "2047 2024-08-09                     18                      10   \n",
       "2048 2024-08-10                     17                      15   \n",
       "2049 2024-08-11                     14                      11   \n",
       "\n",
       "      7-day Moving Average  Prior Year: 7-day Moving Average  \n",
       "2045             23.142857                         31.428571  \n",
       "2046             25.142857                         31.142857  \n",
       "2047             25.285714                         30.571429  \n",
       "2048             26.714286                         30.714286  \n",
       "2049             27.857143                         30.285714  "
      ]
     },
     "execution_count": 5,
     "metadata": {},
     "output_type": "execute_result"
    }
   ],
   "source": [
    "df.tail()"
   ]
  },
  {
   "cell_type": "code",
   "execution_count": 6,
   "metadata": {},
   "outputs": [
    {
     "name": "stderr",
     "output_type": "stream",
     "text": [
      "<ipython-input-6-5ee43dc68bdd>:1: SettingWithCopyWarning: \n",
      "A value is trying to be set on a copy of a slice from a DataFrame.\n",
      "Try using .loc[row_indexer,col_indexer] = value instead\n",
      "\n",
      "See the caveats in the documentation: https://pandas.pydata.org/pandas-docs/stable/user_guide/indexing.html#returning-a-view-versus-a-copy\n",
      "  df['Total Ships'] = df['Number of Cargo Ships'] + df['Number of Tanker Ships']\n"
     ]
    },
    {
     "data": {
      "text/html": [
       "<div>\n",
       "<style scoped>\n",
       "    .dataframe tbody tr th:only-of-type {\n",
       "        vertical-align: middle;\n",
       "    }\n",
       "\n",
       "    .dataframe tbody tr th {\n",
       "        vertical-align: top;\n",
       "    }\n",
       "\n",
       "    .dataframe thead th {\n",
       "        text-align: right;\n",
       "    }\n",
       "</style>\n",
       "<table border=\"1\" class=\"dataframe\">\n",
       "  <thead>\n",
       "    <tr style=\"text-align: right;\">\n",
       "      <th></th>\n",
       "      <th>DateTime</th>\n",
       "      <th>Number of Cargo Ships</th>\n",
       "      <th>Number of Tanker Ships</th>\n",
       "      <th>7-day Moving Average</th>\n",
       "      <th>Prior Year: 7-day Moving Average</th>\n",
       "      <th>Total Ships</th>\n",
       "    </tr>\n",
       "  </thead>\n",
       "  <tbody>\n",
       "    <tr>\n",
       "      <th>2045</th>\n",
       "      <td>2024-08-07</td>\n",
       "      <td>13</td>\n",
       "      <td>14</td>\n",
       "      <td>23.142857</td>\n",
       "      <td>31.428571</td>\n",
       "      <td>27</td>\n",
       "    </tr>\n",
       "    <tr>\n",
       "      <th>2046</th>\n",
       "      <td>2024-08-08</td>\n",
       "      <td>22</td>\n",
       "      <td>8</td>\n",
       "      <td>25.142857</td>\n",
       "      <td>31.142857</td>\n",
       "      <td>30</td>\n",
       "    </tr>\n",
       "    <tr>\n",
       "      <th>2047</th>\n",
       "      <td>2024-08-09</td>\n",
       "      <td>18</td>\n",
       "      <td>10</td>\n",
       "      <td>25.285714</td>\n",
       "      <td>30.571429</td>\n",
       "      <td>28</td>\n",
       "    </tr>\n",
       "    <tr>\n",
       "      <th>2048</th>\n",
       "      <td>2024-08-10</td>\n",
       "      <td>17</td>\n",
       "      <td>15</td>\n",
       "      <td>26.714286</td>\n",
       "      <td>30.714286</td>\n",
       "      <td>32</td>\n",
       "    </tr>\n",
       "    <tr>\n",
       "      <th>2049</th>\n",
       "      <td>2024-08-11</td>\n",
       "      <td>14</td>\n",
       "      <td>11</td>\n",
       "      <td>27.857143</td>\n",
       "      <td>30.285714</td>\n",
       "      <td>25</td>\n",
       "    </tr>\n",
       "  </tbody>\n",
       "</table>\n",
       "</div>"
      ],
      "text/plain": [
       "       DateTime  Number of Cargo Ships  Number of Tanker Ships  \\\n",
       "2045 2024-08-07                     13                      14   \n",
       "2046 2024-08-08                     22                       8   \n",
       "2047 2024-08-09                     18                      10   \n",
       "2048 2024-08-10                     17                      15   \n",
       "2049 2024-08-11                     14                      11   \n",
       "\n",
       "      7-day Moving Average  Prior Year: 7-day Moving Average  Total Ships  \n",
       "2045             23.142857                         31.428571           27  \n",
       "2046             25.142857                         31.142857           30  \n",
       "2047             25.285714                         30.571429           28  \n",
       "2048             26.714286                         30.714286           32  \n",
       "2049             27.857143                         30.285714           25  "
      ]
     },
     "execution_count": 6,
     "metadata": {},
     "output_type": "execute_result"
    }
   ],
   "source": [
    "df['Total Ships'] = df['Number of Cargo Ships'] + df['Number of Tanker Ships']\n",
    "df.tail()"
   ]
  },
  {
   "cell_type": "code",
   "execution_count": 7,
   "metadata": {},
   "outputs": [
    {
     "data": {
      "text/plain": [
       "728"
      ]
     },
     "execution_count": 7,
     "metadata": {},
     "output_type": "execute_result"
    }
   ],
   "source": [
    "df['Total Ships'].sum()"
   ]
  },
  {
   "cell_type": "code",
   "execution_count": 8,
   "metadata": {},
   "outputs": [
    {
     "data": {
      "text/plain": [
       "26.0"
      ]
     },
     "execution_count": 8,
     "metadata": {},
     "output_type": "execute_result"
    }
   ],
   "source": [
    "df['Total Ships'].mean()"
   ]
  },
  {
   "cell_type": "code",
   "execution_count": 10,
   "metadata": {},
   "outputs": [
    {
     "data": {
      "text/plain": [
       "806"
      ]
     },
     "execution_count": 10,
     "metadata": {},
     "output_type": "execute_result"
    }
   ],
   "source": [
    "728+26*3"
   ]
  },
  {
   "cell_type": "code",
   "execution_count": null,
   "metadata": {},
   "outputs": [],
   "source": []
  }
 ],
 "metadata": {
  "kernelspec": {
   "display_name": "Python 3",
   "language": "python",
   "name": "python3"
  },
  "language_info": {
   "codemirror_mode": {
    "name": "ipython",
    "version": 3
   },
   "file_extension": ".py",
   "mimetype": "text/x-python",
   "name": "python",
   "nbconvert_exporter": "python",
   "pygments_lexer": "ipython3",
   "version": "3.8.5"
  }
 },
 "nbformat": 4,
 "nbformat_minor": 4
}
